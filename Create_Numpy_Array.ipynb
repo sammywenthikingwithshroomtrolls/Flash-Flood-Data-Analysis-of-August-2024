{
  "nbformat": 4,
  "nbformat_minor": 0,
  "metadata": {
    "colab": {
      "provenance": [],
      "toc_visible": true,
      "mount_file_id": "1j4Vahnft0LWpvAZ_90I_G1v0-7cjBIif",
      "authorship_tag": "ABX9TyOKe2heOFnOpIIvg/8W6v6k",
      "include_colab_link": true
    },
    "kernelspec": {
      "name": "python3",
      "display_name": "Python 3"
    },
    "language_info": {
      "name": "python"
    }
  },
  "cells": [
    {
      "cell_type": "markdown",
      "metadata": {
        "id": "view-in-github",
        "colab_type": "text"
      },
      "source": [
        "<a href=\"https://colab.research.google.com/github/sammywenthikingwithshroomtrolls/Flash-Flood-Data-Analysis-of-August-2024/blob/main/Create_Numpy_Array.ipynb\" target=\"_parent\"><img src=\"https://colab.research.google.com/assets/colab-badge.svg\" alt=\"Open In Colab\"/></a>"
      ]
    },
    {
      "cell_type": "markdown",
      "source": [
        "# creating numpy array/ n-dimensional array"
      ],
      "metadata": {
        "id": "2bi9Ue_iDGkE"
      }
    },
    {
      "cell_type": "code",
      "source": [
        "import numpy as np"
      ],
      "metadata": {
        "id": "0BYKyO1gC30F"
      },
      "execution_count": null,
      "outputs": []
    },
    {
      "cell_type": "code",
      "source": [
        "arr1=np.array([3,4,5,6,7,8,8])\n",
        "arr1"
      ],
      "metadata": {
        "colab": {
          "base_uri": "https://localhost:8080/"
        },
        "id": "uTTMZwy7DZgE",
        "outputId": "29420094-7911-4474-d0c3-67cf97a0b179"
      },
      "execution_count": 2,
      "outputs": [
        {
          "output_type": "execute_result",
          "data": {
            "text/plain": [
              "array([3, 4, 5, 6, 7, 8, 8])"
            ]
          },
          "metadata": {},
          "execution_count": 2
        }
      ]
    },
    {
      "cell_type": "markdown",
      "source": [
        "**to check data type of the array type(arr1)**\n",
        "\n",
        "\n",
        "\n"
      ],
      "metadata": {
        "id": "LlAOvVgmDtmP"
      }
    },
    {
      "cell_type": "code",
      "source": [
        "type(arr1)"
      ],
      "metadata": {
        "colab": {
          "base_uri": "https://localhost:8080/"
        },
        "id": "FFswOXSTDlWH",
        "outputId": "20e6621a-6483-4add-aced-f040b8f15f9e"
      },
      "execution_count": 3,
      "outputs": [
        {
          "output_type": "execute_result",
          "data": {
            "text/plain": [
              "numpy.ndarray"
            ]
          },
          "metadata": {},
          "execution_count": 3
        }
      ]
    },
    {
      "cell_type": "code",
      "source": [
        "arr2=np.array([[1,2,3,4,5,6,7,8],[1,2,3,4,6,7,7,8]])\n",
        "arr2"
      ],
      "metadata": {
        "colab": {
          "base_uri": "https://localhost:8080/"
        },
        "id": "CthbJuEID1me",
        "outputId": "b1d8d368-9aa9-41e1-ad4d-ab1bebcdc33d"
      },
      "execution_count": 6,
      "outputs": [
        {
          "output_type": "execute_result",
          "data": {
            "text/plain": [
              "array([[1, 2, 3, 4, 5, 6, 7, 8],\n",
              "       [1, 2, 3, 4, 6, 7, 7, 8]])"
            ]
          },
          "metadata": {},
          "execution_count": 6
        }
      ]
    },
    {
      "cell_type": "markdown",
      "source": [
        "In array, it's like matrix, so elements of two list's value needs to be equal. for example 7 value in 1st list, then needs to be 7 value in 2nd list"
      ],
      "metadata": {
        "id": "AyzlFejOEbLL"
      }
    },
    {
      "cell_type": "code",
      "source": [
        "arr3=np.zeros((4,3))\n",
        "arr3"
      ],
      "metadata": {
        "colab": {
          "base_uri": "https://localhost:8080/"
        },
        "id": "rTVWx0sTEwLy",
        "outputId": "6b3f472b-d975-4e4e-b4c4-9a907ee1f190"
      },
      "execution_count": 8,
      "outputs": [
        {
          "output_type": "execute_result",
          "data": {
            "text/plain": [
              "array([[0., 0., 0.],\n",
              "       [0., 0., 0.],\n",
              "       [0., 0., 0.],\n",
              "       [0., 0., 0.]])"
            ]
          },
          "metadata": {},
          "execution_count": 8
        }
      ]
    },
    {
      "cell_type": "markdown",
      "source": [
        "so, it's mostly like the straight line where we are inputing the values like arr2, arr3=etc etc, there the value can be considered as **vector**,\n",
        "and when we print it, then we can call it '**Matrix**'"
      ],
      "metadata": {
        "id": "JT7Y8HuEDFQA"
      }
    },
    {
      "cell_type": "code",
      "source": [
        "arr4=np.ones((10,3))\n",
        "arr4"
      ],
      "metadata": {
        "colab": {
          "base_uri": "https://localhost:8080/"
        },
        "id": "rHPMLuUuFlfy",
        "outputId": "9707aff7-8784-47d2-f3bd-5f5fab9bc5bb"
      },
      "execution_count": 10,
      "outputs": [
        {
          "output_type": "execute_result",
          "data": {
            "text/plain": [
              "array([[1., 1., 1.],\n",
              "       [1., 1., 1.],\n",
              "       [1., 1., 1.],\n",
              "       [1., 1., 1.],\n",
              "       [1., 1., 1.],\n",
              "       [1., 1., 1.],\n",
              "       [1., 1., 1.],\n",
              "       [1., 1., 1.],\n",
              "       [1., 1., 1.],\n",
              "       [1., 1., 1.]])"
            ]
          },
          "metadata": {},
          "execution_count": 10
        }
      ]
    },
    {
      "cell_type": "markdown",
      "source": [
        "1st value in the bracket is row, 2nd is coloumn"
      ],
      "metadata": {
        "id": "jtqa7rmoF3ur"
      }
    },
    {
      "cell_type": "code",
      "source": [
        "arr5=np.identity(5)\n",
        "arr5"
      ],
      "metadata": {
        "colab": {
          "base_uri": "https://localhost:8080/"
        },
        "id": "LDQGr00tFzQO",
        "outputId": "8c790e88-9a83-4d62-b51e-79a4a6d364f2"
      },
      "execution_count": 11,
      "outputs": [
        {
          "output_type": "execute_result",
          "data": {
            "text/plain": [
              "array([[1., 0., 0., 0., 0.],\n",
              "       [0., 1., 0., 0., 0.],\n",
              "       [0., 0., 1., 0., 0.],\n",
              "       [0., 0., 0., 1., 0.],\n",
              "       [0., 0., 0., 0., 1.]])"
            ]
          },
          "metadata": {},
          "execution_count": 11
        }
      ]
    },
    {
      "cell_type": "code",
      "source": [
        "arr6=np.arange(10)\n",
        "arr6"
      ],
      "metadata": {
        "colab": {
          "base_uri": "https://localhost:8080/"
        },
        "id": "a0c6tVRnGMPL",
        "outputId": "ae408eb7-5c8f-4c3c-ab6a-ffcfc545fe2e"
      },
      "execution_count": 16,
      "outputs": [
        {
          "output_type": "execute_result",
          "data": {
            "text/plain": [
              "array([0, 1, 2, 3, 4, 5, 6, 7, 8, 9])"
            ]
          },
          "metadata": {},
          "execution_count": 16
        }
      ]
    },
    {
      "cell_type": "markdown",
      "source": [
        "Notice: it's **arange**, not arrange. There is no function named arrange in NumPy. The function you meant to use is arange, **which returns evenly spaced values within a given interval.**"
      ],
      "metadata": {
        "id": "NfJ0o6GiG7d2"
      }
    },
    {
      "cell_type": "code",
      "source": [
        "arr6=np.arange(9-20)\n",
        "arr6"
      ],
      "metadata": {
        "colab": {
          "base_uri": "https://localhost:8080/"
        },
        "id": "5ZSUnpEQHFEN",
        "outputId": "0dbc0950-ab42-4575-d518-a538f29134f2"
      },
      "execution_count": 20,
      "outputs": [
        {
          "output_type": "execute_result",
          "data": {
            "text/plain": [
              "array([], dtype=int64)"
            ]
          },
          "metadata": {},
          "execution_count": 20
        }
      ]
    },
    {
      "cell_type": "code",
      "source": [
        "arr7=np.arange(9,20)\n",
        "arr7"
      ],
      "metadata": {
        "colab": {
          "base_uri": "https://localhost:8080/"
        },
        "id": "Boti_OrSHhOO",
        "outputId": "ffd16464-cc74-4207-9321-8655fc2aff2a"
      },
      "execution_count": 21,
      "outputs": [
        {
          "output_type": "execute_result",
          "data": {
            "text/plain": [
              "array([ 9, 10, 11, 12, 13, 14, 15, 16, 17, 18, 19])"
            ]
          },
          "metadata": {},
          "execution_count": 21
        }
      ]
    },
    {
      "cell_type": "code",
      "source": [
        "arr8=np.linspace(10,25,10)\n",
        "arr8"
      ],
      "metadata": {
        "colab": {
          "base_uri": "https://localhost:8080/"
        },
        "id": "ZwjwAQfPIBKH",
        "outputId": "a4a6d477-7b8f-46e3-e8dc-304b5a61df44"
      },
      "execution_count": 22,
      "outputs": [
        {
          "output_type": "execute_result",
          "data": {
            "text/plain": [
              "array([10.        , 11.66666667, 13.33333333, 15.        , 16.66666667,\n",
              "       18.33333333, 20.        , 21.66666667, 23.33333333, 25.        ])"
            ]
          },
          "metadata": {},
          "execution_count": 22
        }
      ]
    },
    {
      "cell_type": "markdown",
      "source": [
        "here, first value in bracket is 1st range, 2nd one is last value of range, 10 is the number of elements I want within this range. So, this means the value of the elements are float in any array\n",
        "\n"
      ],
      "metadata": {
        "id": "CFO37zLQIIvs"
      }
    },
    {
      "cell_type": "code",
      "source": [
        "arr8=arr7.copy()\n",
        "arr8"
      ],
      "metadata": {
        "colab": {
          "base_uri": "https://localhost:8080/"
        },
        "id": "ZVPmzh-DIU7V",
        "outputId": "b04e54dc-1d87-45ea-f7e4-e8c6b23d745d"
      },
      "execution_count": 23,
      "outputs": [
        {
          "output_type": "execute_result",
          "data": {
            "text/plain": [
              "array([ 9, 10, 11, 12, 13, 14, 15, 16, 17, 18, 19])"
            ]
          },
          "metadata": {},
          "execution_count": 23
        }
      ]
    },
    {
      "cell_type": "markdown",
      "source": [
        "copy function copies the value of other array, I will ask it to copy\n"
      ],
      "metadata": {
        "id": "GgNSj_qJIqLn"
      }
    },
    {
      "cell_type": "code",
      "source": [],
      "metadata": {
        "id": "mHw-3TmGIuiy"
      },
      "execution_count": null,
      "outputs": []
    }
  ]
}